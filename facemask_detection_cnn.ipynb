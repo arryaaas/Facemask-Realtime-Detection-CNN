{
 "cells": [
  {
   "cell_type": "markdown",
   "id": "a80c4a19",
   "metadata": {},
   "source": [
    "# Pengenalan Wajah Bermasker Dan Tidak Menggunakan CNN\n",
    "Mochammad Arya Salsabila ( 19081010001 ) / Nadhif Mahardika Awandi ( 19081010064 ) / Kecerdasan Buatan Paralel D Tahun 2021"
   ]
  },
  {
   "cell_type": "markdown",
   "id": "d8fb1241",
   "metadata": {},
   "source": [
    "![Banner](https://storage.googleapis.com/kaggle-datasets-images/809358/1386555/25ee018da53319cffea1c5080c7c9857/dataset-cover.jpg?t=2020-08-07-17-42-48)\n",
    "\n",
    "# Download Dataset\n",
    "\n",
    "Dataset yang digunakan didapatkan dari https://www.kaggle.com/omkargurav/face-mask-dataset. \n",
    "\n",
    "```bash\n",
    "└─── data\n",
    "    |─── with mask\n",
    "    └─── without mask\n",
    "```\n",
    "\n",
    "# Import Library"
   ]
  },
  {
   "cell_type": "code",
   "execution_count": 1,
   "id": "a6a6a8e9",
   "metadata": {},
   "outputs": [],
   "source": [
    "import os\n",
    "import shutil\n",
    "import zipfile\n",
    "import numpy as np\n",
    "import tensorflow as tf\n",
    "import matplotlib.pyplot as plt\n",
    "from keras.preprocessing import image\n",
    "from sklearn.model_selection import train_test_split\n",
    "from tensorflow.keras.preprocessing.image import ImageDataGenerator\n",
    "%matplotlib inline"
   ]
  },
  {
   "cell_type": "markdown",
   "id": "d850d675",
   "metadata": {},
   "source": [
    "# Mempersiapkan Dataset\n",
    "\n",
    "Mengekstrak dataset yang telah didownload dan melihat isi foldernya."
   ]
  },
  {
   "cell_type": "code",
   "execution_count": 2,
   "id": "13efe826",
   "metadata": {},
   "outputs": [
    {
     "data": {
      "text/plain": [
       "['without_mask', 'with_mask']"
      ]
     },
     "execution_count": 2,
     "metadata": {},
     "output_type": "execute_result"
    }
   ],
   "source": [
    "local_zip = \"D:/Code/Notebook/realtime-facemask-detection-cnn/data.zip\"\n",
    "zip_ref = zipfile.ZipFile(local_zip, \"r\")\n",
    "zip_ref.extractall(\"D:/Code/Notebook/realtime-facemask-detection-cnn\")\n",
    "zip_ref.close()\n",
    "\n",
    "os.listdir(\"D:/Code/Notebook/realtime-facemask-detection-cnn/data\")"
   ]
  },
  {
   "cell_type": "markdown",
   "id": "bfeea810",
   "metadata": {},
   "source": [
    "Mengecek total image pada direktori with mask dan wihtout mask."
   ]
  },
  {
   "cell_type": "code",
   "execution_count": 3,
   "id": "33d8b317",
   "metadata": {},
   "outputs": [
    {
     "name": "stdout",
     "output_type": "stream",
     "text": [
      "Total : 7553\n",
      "With mask : 3725\n",
      "Without mask : 3828\n"
     ]
    }
   ],
   "source": [
    "total_with_mask = len(os.listdir(\"D:/Code/Notebook/realtime-facemask-detection-cnn/data/with_mask\"))\n",
    "total_without_mask = len(os.listdir(\"D:/Code/Notebook/realtime-facemask-detection-cnn/data/without_mask\"))\n",
    "\n",
    "total = total_with_mask + total_without_mask\n",
    "\n",
    "print(\"Total : {}\".format(total))\n",
    "print(\"With mask : {}\".format(total_with_mask))\n",
    "print(\"Without mask : {}\".format(total_without_mask))"
   ]
  },
  {
   "cell_type": "markdown",
   "id": "aeec70a4",
   "metadata": {},
   "source": [
    "Membuat sub direktori train dan validation di dalam direktori data, sehingga struktur direktori data menjadi:\n",
    "\n",
    "```bash\n",
    "└─── data\n",
    "    |─── train\n",
    "    |   |─── with mask ( 80% )\n",
    "    |   └─── without mask ( 80% )\n",
    "    |─── validation \n",
    "    |   |─── with mask ( 20% )\n",
    "    |   └─── without mask ( 20% )\n",
    "    |─── with mask ( original )\n",
    "    └─── without mask ( original )\n",
    "```"
   ]
  },
  {
   "cell_type": "code",
   "execution_count": 4,
   "id": "abb53b37",
   "metadata": {},
   "outputs": [],
   "source": [
    "base_dir = \"D:/Code/Notebook/realtime-facemask-detection-cnn/data\"\n",
    "without_mask_dir = os.path.join(base_dir, \"without_mask\")\n",
    "with_mask_dir = os.path.join(base_dir, \"with_mask\")\n",
    "\n",
    "train_dir = os.path.join(base_dir, \"train\")\n",
    "validation_dir = os.path.join(base_dir, \"validation\")\n",
    "\n",
    "train_with_mask_dir = os.path.join(train_dir, \"with_mask\")\n",
    "train_without_mask_dir = os.path.join(train_dir, \"without_mask\")\n",
    "\n",
    "validation_with_mask_dir = os.path.join(validation_dir, \"with_mask\")\n",
    "validation_without_mask_dir = os.path.join(validation_dir, \"without_mask\")\n",
    "\n",
    "if not os.path.exists(train_dir):\n",
    "    os.mkdir(train_dir)\n",
    "if not os.path.exists(validation_dir):\n",
    "    os.mkdir(validation_dir)\n",
    "\n",
    "if not os.path.exists(train_with_mask_dir):\n",
    "    os.mkdir(train_with_mask_dir)\n",
    "if not os.path.exists(train_without_mask_dir):\n",
    "    os.mkdir(train_without_mask_dir)\n",
    "\n",
    "if not os.path.exists(validation_with_mask_dir):\n",
    "    os.mkdir(validation_with_mask_dir)\n",
    "if not os.path.exists(validation_without_mask_dir):\n",
    "    os.mkdir(validation_without_mask_dir)"
   ]
  },
  {
   "cell_type": "markdown",
   "id": "40c06e91",
   "metadata": {},
   "source": [
    "Membagi dataset with mask dan without mask menjadi 2 bagian, yaitu train dan validation dengan proporsi 80% dan 20%."
   ]
  },
  {
   "cell_type": "code",
   "execution_count": 5,
   "id": "53de8d79",
   "metadata": {},
   "outputs": [],
   "source": [
    "train_with_mask, validation_with_mask = train_test_split(os.listdir(with_mask_dir), test_size = 0.2)\n",
    "train_without_mask, validation_without_mask = train_test_split(os.listdir(without_mask_dir), test_size = 0.2)\n",
    "\n",
    "for i in train_with_mask:\n",
    "    shutil.copy(os.path.join(with_mask_dir, i), os.path.join(train_with_mask_dir, i))\n",
    "for i in train_without_mask:\n",
    "    shutil.copy(os.path.join(without_mask_dir, i), os.path.join(train_without_mask_dir, i))\n",
    "\n",
    "for i in validation_with_mask:\n",
    "    shutil.copy(os.path.join(with_mask_dir, i), os.path.join(validation_with_mask_dir, i))\n",
    "for i in validation_without_mask:\n",
    "    shutil.copy(os.path.join(without_mask_dir, i), os.path.join(validation_without_mask_dir, i))"
   ]
  },
  {
   "cell_type": "markdown",
   "id": "6c5a2ebc",
   "metadata": {},
   "source": [
    "Memproses data sebelum di load menggunakan ImageDataGenerator(). ImageDataGenerator() dapat melakukan preprocessing, pelabelan sampel otomatis, dan augmentasi gambar."
   ]
  },
  {
   "cell_type": "code",
   "execution_count": 6,
   "id": "a1340e77",
   "metadata": {},
   "outputs": [],
   "source": [
    "train_datagen = ImageDataGenerator(\n",
    "    rescale = 1./255,\n",
    "    rotation_range = 20,\n",
    "    horizontal_flip = True,\n",
    "    shear_range = 0.2,\n",
    "    fill_mode = \"nearest\"\n",
    ")\n",
    "\n",
    "validation_datagen = ImageDataGenerator(\n",
    "    rescale = 1./255,\n",
    "    rotation_range = 20,\n",
    "    horizontal_flip = True,\n",
    "    shear_range = 0.2,\n",
    "    fill_mode = \"nearest\"\n",
    ")"
   ]
  },
  {
   "cell_type": "markdown",
   "id": "c4a757eb",
   "metadata": {},
   "source": [
    "Load data ke dalam memori dengan fungsi flow_from_directory(). Cara menentukan class_mode yang digunakan:\n",
    "- Untuk klasifikasi 2 kelas maka gunakan binary. \n",
    "- Untuk klasifikasi 3 kelas atau lebih maka gunakan categorical."
   ]
  },
  {
   "cell_type": "code",
   "execution_count": 7,
   "id": "a06d2361",
   "metadata": {},
   "outputs": [
    {
     "name": "stdout",
     "output_type": "stream",
     "text": [
      "Found 6042 images belonging to 2 classes.\n",
      "Found 1511 images belonging to 2 classes.\n"
     ]
    }
   ],
   "source": [
    "train_generator = train_datagen.flow_from_directory(\n",
    "    train_dir,\n",
    "    target_size = (150, 150),\n",
    "    batch_size = 32,\n",
    "    class_mode = \"binary\"\n",
    ")\n",
    "\n",
    "validation_generator = validation_datagen.flow_from_directory(\n",
    "    validation_dir,\n",
    "    target_size = (150, 150),\n",
    "    batch_size = 32,\n",
    "    class_mode = \"binary\"\n",
    ")"
   ]
  },
  {
   "cell_type": "markdown",
   "id": "4ad8260d",
   "metadata": {},
   "source": [
    "Menampilkan kelas-kelas pada dataset."
   ]
  },
  {
   "cell_type": "code",
   "execution_count": 8,
   "id": "88057562",
   "metadata": {},
   "outputs": [
    {
     "name": "stdout",
     "output_type": "stream",
     "text": [
      "{'with_mask': 0, 'without_mask': 1}\n"
     ]
    }
   ],
   "source": [
    "print(train_generator.class_indices)"
   ]
  },
  {
   "cell_type": "markdown",
   "id": "be9e44ec",
   "metadata": {},
   "source": [
    "# Membuat Arsitektur Model CNN"
   ]
  },
  {
   "cell_type": "code",
   "execution_count": 9,
   "id": "6b7d3166",
   "metadata": {},
   "outputs": [
    {
     "name": "stdout",
     "output_type": "stream",
     "text": [
      "Model: \"sequential\"\n",
      "_________________________________________________________________\n",
      " Layer (type)                Output Shape              Param #   \n",
      "=================================================================\n",
      " conv2d (Conv2D)             (None, 150, 150, 32)      896       \n",
      "                                                                 \n",
      " max_pooling2d (MaxPooling2D  (None, 75, 75, 32)       0         \n",
      " )                                                               \n",
      "                                                                 \n",
      " conv2d_1 (Conv2D)           (None, 75, 75, 64)        18496     \n",
      "                                                                 \n",
      " max_pooling2d_1 (MaxPooling  (None, 37, 37, 64)       0         \n",
      " 2D)                                                             \n",
      "                                                                 \n",
      " conv2d_2 (Conv2D)           (None, 37, 37, 128)       73856     \n",
      "                                                                 \n",
      " max_pooling2d_2 (MaxPooling  (None, 18, 18, 128)      0         \n",
      " 2D)                                                             \n",
      "                                                                 \n",
      " conv2d_3 (Conv2D)           (None, 18, 18, 128)       147584    \n",
      "                                                                 \n",
      " max_pooling2d_3 (MaxPooling  (None, 9, 9, 128)        0         \n",
      " 2D)                                                             \n",
      "                                                                 \n",
      " flatten (Flatten)           (None, 10368)             0         \n",
      "                                                                 \n",
      " dropout (Dropout)           (None, 10368)             0         \n",
      "                                                                 \n",
      " dense (Dense)               (None, 512)               5308928   \n",
      "                                                                 \n",
      " dense_1 (Dense)             (None, 1)                 513       \n",
      "                                                                 \n",
      "=================================================================\n",
      "Total params: 5,550,273\n",
      "Trainable params: 5,550,273\n",
      "Non-trainable params: 0\n",
      "_________________________________________________________________\n"
     ]
    }
   ],
   "source": [
    "model = tf.keras.models.Sequential([\n",
    "    tf.keras.layers.Conv2D(32, (3, 3), padding=\"same\", activation=\"relu\", input_shape=(150, 150, 3)),\n",
    "    tf.keras.layers.MaxPooling2D(2, 2),\n",
    "    tf.keras.layers.Conv2D(64, (3, 3), padding=\"same\", activation=\"relu\"),\n",
    "    tf.keras.layers.MaxPooling2D(2, 2),\n",
    "    tf.keras.layers.Conv2D(128, (3, 3), padding=\"same\", activation=\"relu\"),\n",
    "    tf.keras.layers.MaxPooling2D(2, 2),\n",
    "    tf.keras.layers.Conv2D(128, (3, 3), padding=\"same\", activation=\"relu\"),\n",
    "    tf.keras.layers.MaxPooling2D(2, 2),\n",
    "    tf.keras.layers.Flatten(),\n",
    "    tf.keras.layers.Dropout(0.5),\n",
    "    tf.keras.layers.Dense(512, activation=\"relu\"),\n",
    "    tf.keras.layers.Dense(1, activation=\"sigmoid\")\n",
    "])\n",
    "\n",
    "model.summary()"
   ]
  },
  {
   "cell_type": "markdown",
   "id": "a08c05b7",
   "metadata": {},
   "source": [
    "# Compile Model\n",
    "\n",
    "Menentukan loss function, optimizer, dan metrics yang akan digunakan."
   ]
  },
  {
   "cell_type": "code",
   "execution_count": 10,
   "id": "7a35a49f",
   "metadata": {},
   "outputs": [],
   "source": [
    "model.compile(loss=\"binary_crossentropy\",\n",
    "              optimizer=tf.optimizers.Adam(),\n",
    "              metrics=[\"accuracy\"])"
   ]
  },
  {
   "cell_type": "markdown",
   "id": "54765496",
   "metadata": {},
   "source": [
    "- Karena class mode yang digunakan pada flow data adalah binary maka loss functionnya menggunakan binary crossentropy. Sebaliknya jika class mode yang digunakan pada flow data adalah categorical maka loss functionnya menggunakan categorical crossentropy.\n",
    "- Optimizer yang digunakan adalah adam optimizer karena lebih efisien secara komputasi dan kebutuhan memorinya yang kecil.\n",
    "- Metrics accuracy dipilih karena nilai matriks yang diukur pada project ini menggunakan nilai akurasi."
   ]
  },
  {
   "cell_type": "markdown",
   "id": "0dffb9e1",
   "metadata": {},
   "source": [
    "# Membuat Callback\n",
    "\n",
    "Callback ini berfungsi untuk menghentikan proses training meskipun epoch belum berakhir dengan syarat accuracy yang didapatkan saat training telah melebihi ACCURACY THRESHOLD yang telah ditentukan yaitu 96%."
   ]
  },
  {
   "cell_type": "code",
   "execution_count": 11,
   "id": "d1b2e256",
   "metadata": {},
   "outputs": [],
   "source": [
    "ACCURACY_THRESHOLD = 0.96\n",
    "\n",
    "class myCallback(tf.keras.callbacks.Callback):\n",
    "    def on_epoch_end(self, epoch, logs={}):\n",
    "        if (logs.get(\"accuracy\") > ACCURACY_THRESHOLD):\n",
    "            print(\"\\nReached %2.2f%% accuracy, so stopping training!!\" % (ACCURACY_THRESHOLD * 100))\n",
    "            self.model.stop_training = True\n",
    "            \n",
    "callbacks = myCallback()"
   ]
  },
  {
   "cell_type": "markdown",
   "id": "e59daf0a",
   "metadata": {},
   "source": [
    "# Melatih Model\n",
    "\n",
    "Karena model telah dicompile maka model tersebut kini telah siap untuk ditraining. Untuk melatih model dapat menggunakan fungsi fit()."
   ]
  },
  {
   "cell_type": "code",
   "execution_count": 12,
   "id": "d3dc0289",
   "metadata": {},
   "outputs": [
    {
     "name": "stdout",
     "output_type": "stream",
     "text": [
      "Epoch 1/20\n"
     ]
    },
    {
     "name": "stderr",
     "output_type": "stream",
     "text": [
      "c:\\users\\hp\\appdata\\local\\programs\\python\\python39\\lib\\site-packages\\PIL\\Image.py:975: UserWarning: Palette images with Transparency expressed in bytes should be converted to RGBA images\n",
      "  warnings.warn(\n"
     ]
    },
    {
     "name": "stdout",
     "output_type": "stream",
     "text": [
      "188/188 - 135s - loss: 0.3447 - accuracy: 0.8446 - val_loss: 0.2277 - val_accuracy: 0.9089 - 135s/epoch - 717ms/step\n",
      "Epoch 2/20\n",
      "188/188 - 133s - loss: 0.2216 - accuracy: 0.9171 - val_loss: 0.1908 - val_accuracy: 0.9269 - 133s/epoch - 708ms/step\n",
      "Epoch 3/20\n",
      "188/188 - 123s - loss: 0.1895 - accuracy: 0.9324 - val_loss: 0.1766 - val_accuracy: 0.9328 - 123s/epoch - 652ms/step\n",
      "Epoch 4/20\n",
      "188/188 - 113s - loss: 0.1784 - accuracy: 0.9391 - val_loss: 0.1574 - val_accuracy: 0.9428 - 113s/epoch - 602ms/step\n",
      "Epoch 5/20\n",
      "188/188 - 108s - loss: 0.1701 - accuracy: 0.9393 - val_loss: 0.1511 - val_accuracy: 0.9441 - 108s/epoch - 575ms/step\n",
      "Epoch 6/20\n",
      "188/188 - 107s - loss: 0.1507 - accuracy: 0.9473 - val_loss: 0.1417 - val_accuracy: 0.9461 - 107s/epoch - 572ms/step\n",
      "Epoch 7/20\n",
      "188/188 - 108s - loss: 0.1380 - accuracy: 0.9524 - val_loss: 0.1163 - val_accuracy: 0.9535 - 108s/epoch - 574ms/step\n",
      "Epoch 8/20\n",
      "188/188 - 108s - loss: 0.1196 - accuracy: 0.9559 - val_loss: 0.1290 - val_accuracy: 0.9561 - 108s/epoch - 575ms/step\n",
      "Epoch 9/20\n",
      "188/188 - 108s - loss: 0.1359 - accuracy: 0.9526 - val_loss: 0.1113 - val_accuracy: 0.9594 - 108s/epoch - 575ms/step\n",
      "Epoch 10/20\n",
      "188/188 - 109s - loss: 0.1156 - accuracy: 0.9599 - val_loss: 0.1288 - val_accuracy: 0.9555 - 109s/epoch - 577ms/step\n",
      "Epoch 11/20\n",
      "\n",
      "Reached 96.00% accuracy, so stopping training!!\n",
      "188/188 - 108s - loss: 0.1111 - accuracy: 0.9634 - val_loss: 0.0927 - val_accuracy: 0.9628 - 108s/epoch - 574ms/step\n"
     ]
    }
   ],
   "source": [
    "STEP_PER_EPOCH = train_generator.n // train_generator.batch_size\n",
    "VALIDATION_STEPS = validation_generator.n // validation_generator.batch_size\n",
    "\n",
    "history = model.fit(\n",
    "    train_generator,\n",
    "    steps_per_epoch = STEP_PER_EPOCH,\n",
    "    epochs = 20,\n",
    "    validation_data = validation_generator,\n",
    "    validation_steps = VALIDATION_STEPS,\n",
    "    verbose = 2,\n",
    "    callbacks = [callbacks]\n",
    ")"
   ]
  },
  {
   "cell_type": "markdown",
   "id": "096b4967",
   "metadata": {},
   "source": [
    "# Visualisasi Data\n",
    "\n",
    "Membuat visualisasi data untuk menampilkan model accuracy dan model loss selama proses training berlangsung."
   ]
  },
  {
   "cell_type": "code",
   "execution_count": 13,
   "id": "93fb5f8c",
   "metadata": {},
   "outputs": [
    {
     "data": {
      "image/png": "[encoded data removed]",
      "text/plain": [
       "<Figure size 1080x360 with 2 Axes>"
      ]
     },
     "metadata": {},
     "output_type": "display_data"
    }
   ],
   "source": [
    "acc = history.history[\"accuracy\"]\n",
    "val_acc = history.history[\"val_accuracy\"]\n",
    "\n",
    "loss = history.history[\"loss\"]\n",
    "val_loss = history.history[\"val_loss\"]\n",
    "\n",
    "plt.style.use(\"seaborn\")\n",
    "fig, ax = plt.subplots(nrows = 1, ncols = 2, figsize = (15, 5))\n",
    "\n",
    "ax[0].plot(acc, label = \"Training Accuracy\")\n",
    "ax[0].plot(val_acc, label = \"Validation Accuracy\")\n",
    "ax[0].legend(loc = \"lower right\")\n",
    "ax[0].set_title(\"Model Accuracy\", fontsize = 16)\n",
    "ax[0].set_xlabel(\"Epoch\")\n",
    "ax[0].set_ylabel(\"Accuracy\")\n",
    "\n",
    "ax[1].plot(loss, label = \"Training Loss\")\n",
    "ax[1].plot(val_loss, label = \"Validation Loss\")\n",
    "ax[1].legend(loc = \"upper right\")\n",
    "ax[1].set_title(\"Model Loss\", fontsize = 16)\n",
    "ax[1].set_xlabel(\"Epoch\")\n",
    "ax[1].set_ylabel(\"Loss\")\n",
    "\n",
    "plt.show()"
   ]
  },
  {
   "cell_type": "markdown",
   "id": "b93bd313",
   "metadata": {},
   "source": [
    "# Save Model"
   ]
  },
  {
   "cell_type": "code",
   "execution_count": 27,
   "id": "ecb918ea",
   "metadata": {},
   "outputs": [],
   "source": [
    "from keras.models import save_model\n",
    "\n",
    "model.save(\"D:/Code/Notebook/realtime-facemask-detection-cnn/model_with_opt.h5\")\n",
    "model.save(\"D:/Code/Notebook/realtime-facemask-detection-cnn/model_without_opt.h5\", include_optimizer = False)"
   ]
  },
  {
   "cell_type": "markdown",
   "id": "73c47762",
   "metadata": {},
   "source": [
    "Model yang telah disimpan akan digunakan untuk pengenalan wajah bermasker dan tidak menggunakan:\n",
    "\n",
    "- Foto ( facemask_detection_cnn_photo.ipynb )\n",
    "- Video Realtime ( facemask_detection_cnn_video.ipynb )"
   ]
  },
  {
   "cell_type": "code",
   "execution_count": null,
   "id": "44dfd71a",
   "metadata": {},
   "outputs": [],
   "source": []
  }
 ],
 "metadata": {
  "kernelspec": {
   "display_name": "Python 3 (ipykernel)",
   "language": "python",
   "name": "python3"
  },
  "language_info": {
   "codemirror_mode": {
    "name": "ipython",
    "version": 3
   },
   "file_extension": ".py",
   "mimetype": "text/x-python",
   "name": "python",
   "nbconvert_exporter": "python",
   "pygments_lexer": "ipython3",
   "version": "3.9.6"
  }
 },
 "nbformat": 4,
 "nbformat_minor": 5
}
