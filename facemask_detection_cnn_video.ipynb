{
 "cells": [
  {
   "cell_type": "markdown",
   "id": "997cefa6",
   "metadata": {},
   "source": [
    "# Pengenalan Wajah Bermasker Dan Tidak Menggunakan CNN\n",
    "Mochammad Arya Salsabila ( 19081010001 ) / Nadhif Mahardika Awandi ( 19081010064 ) / Kecerdasan Buatan Paralel D Tahun 2021"
   ]
  },
  {
   "cell_type": "markdown",
   "id": "4173bd2d",
   "metadata": {},
   "source": [
    "![Banner](https://storage.googleapis.com/kaggle-datasets-images/809358/1386555/25ee018da53319cffea1c5080c7c9857/dataset-cover.jpg?t=2020-08-07-17-42-48)\n",
    "\n",
    "# Klasifikasi Menggunakan Video Realtime"
   ]
  },
  {
   "cell_type": "code",
   "execution_count": 1,
   "id": "0334c181",
   "metadata": {},
   "outputs": [],
   "source": [
    "import cv2\n",
    "import datetime\n",
    "import numpy as np\n",
    "from keras.preprocessing import image"
   ]
  },
  {
   "cell_type": "code",
   "execution_count": 2,
   "id": "2c9bae0a",
   "metadata": {},
   "outputs": [],
   "source": [
    "from keras.models import load_model\n",
    "\n",
    "model = load_model(\"D:/Code/Notebook/realtime-facemask-detection-cnn/model_without_opt.h5\", compile = False)"
   ]
  },
  {
   "cell_type": "code",
   "execution_count": 3,
   "id": "068c6f3c",
   "metadata": {},
   "outputs": [],
   "source": [
    "rect_size = 4\n",
    "cap = cv2.VideoCapture(0)\n",
    "\n",
    "haarcascade = cv2.CascadeClassifier(\"haarcascade_frontalface_default.xml\")\n",
    "\n",
    "while True:\n",
    "    (_, img) = cap.read()\n",
    "    img = cv2.flip(img, 1, 1)\n",
    "    \n",
    "    rerect_size = cv2.resize(img, (img.shape[1] // rect_size, img.shape[0] // rect_size))\n",
    "    faces = haarcascade.detectMultiScale(rerect_size)\n",
    "    \n",
    "    for f in faces:\n",
    "        (x, y, w, h) = [v * rect_size for v in f]\n",
    "        \n",
    "        face_img = img[y : y + h, x : x + w]\n",
    "        \n",
    "        cv2.imwrite(\"temp.jpg\", face_img)\n",
    "        test_image = image.load_img(\"temp.jpg\", target_size = (150, 150, 3))\n",
    "        test_image = image.img_to_array(test_image)\n",
    "        test_image = np.expand_dims(test_image, axis=0)\n",
    "        \n",
    "        classes = model.predict(test_image)\n",
    "        \n",
    "        if classes == 0:\n",
    "            cv2.rectangle(img, (x, y), (x + w, y + h), (0, 255, 0), 2)\n",
    "            cv2.rectangle(img, (x, y - 40), (x + w, y), (0, 255, 0), -1)\n",
    "            cv2.putText(img, \"With Mask\", (x, y - 10), cv2.FONT_HERSHEY_SIMPLEX, 0.75, (255, 255, 255), 2)\n",
    "        else:\n",
    "            cv2.rectangle(img, (x, y), (x + w, y + h), (0, 0, 255), 2)\n",
    "            cv2.rectangle(img, (x, y - 40), (x + w, y), (0, 0, 255), -1)\n",
    "            cv2.putText(img, \"Without Mask\", (x, y - 10), cv2.FONT_HERSHEY_SIMPLEX, 0.75, (255, 255, 255), 2)\n",
    "        \n",
    "        now = str(datetime.datetime.now())\n",
    "        cv2.putText(img, now, (400,450), cv2.FONT_HERSHEY_SIMPLEX, 0.5, (255,255,255), 1)\n",
    "        \n",
    "    cv2.imshow(\"LIVE\", img)\n",
    "    \n",
    "    if cv2.waitKey(1) & 0xFF == ord('q'):\n",
    "        break\n",
    "    \n",
    "cap.release()\n",
    "cv2.destroyAllWindows()"
   ]
  },
  {
   "cell_type": "markdown",
   "id": "8c6a03e7",
   "metadata": {},
   "source": [
    "<div class=\"alert alert-block alert-info\">\n",
    "    <b>Info:</b> Tekan tombol <b>q</b> pada keyboard untuk keluar dari OpenCv.\n",
    "</div>"
   ]
  },
  {
   "cell_type": "code",
   "execution_count": null,
   "id": "7691f6bd",
   "metadata": {},
   "outputs": [],
   "source": []
  }
 ],
 "metadata": {
  "kernelspec": {
   "display_name": "Python 3 (ipykernel)",
   "language": "python",
   "name": "python3"
  },
  "language_info": {
   "codemirror_mode": {
    "name": "ipython",
    "version": 3
   },
   "file_extension": ".py",
   "mimetype": "text/x-python",
   "name": "python",
   "nbconvert_exporter": "python",
   "pygments_lexer": "ipython3",
   "version": "3.9.6"
  }
 },
 "nbformat": 4,
 "nbformat_minor": 5
}
